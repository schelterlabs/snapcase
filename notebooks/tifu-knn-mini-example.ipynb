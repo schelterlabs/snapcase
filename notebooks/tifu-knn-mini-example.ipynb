{
 "cells": [
  {
   "cell_type": "code",
   "execution_count": 4,
   "metadata": {},
   "outputs": [
    {
     "name": "stdout",
     "output_type": "stream",
     "text": [
      "[0.95 0.95 0.45 0.5 ]\n",
      "[0.45 0.45 0.5  0.95]\n",
      "[0.4625 0.4625 0.3625 0.6   ]\n"
     ]
    }
   ],
   "source": [
    "import numpy as np\n",
    "\n",
    "basket1 = np.array([1,1,1,0])\n",
    "basket2 = np.array([1,1,0,1])\n",
    "basket3 = np.array([1,1,0,1])\n",
    "basket4 = np.array([0,0,1,1])\n",
    "\n",
    "vg1 = (0.9 * basket1 + 1.0 * basket2) / 2\n",
    "vg2 = (0.9 * basket3 + 1.0 * basket4) / 2\n",
    "vu = (0.5 * vg1 + 1.0 * vg2) / 2\n",
    "\n",
    "print(vg1)\n",
    "print(vg2)\n",
    "print(vu)"
   ]
  },
  {
   "cell_type": "code",
   "execution_count": 5,
   "metadata": {},
   "outputs": [
    {
     "name": "stdout",
     "output_type": "stream",
     "text": [
      "[0.95 0.95 0.45 0.5 ]\n",
      "[0.  0.  0.5 0.5]\n",
      "[0.2375 0.2375 0.3625 0.375 ]\n"
     ]
    }
   ],
   "source": [
    "basket1 = np.array([1,1,1,0])\n",
    "basket2 = np.array([1,1,0,1])\n",
    "basket3 = np.array([0,0,1,1])\n",
    "\n",
    "vg1 = (0.9 * basket1 + 1.0 * basket2) / 2\n",
    "vg2 = (1.0 * basket3) / 2\n",
    "vu = (0.5 * vg1 + 1.0 * vg2) / 2\n",
    "\n",
    "print(vg1)\n",
    "print(vg2)\n",
    "print(vu)"
   ]
  },
  {
   "cell_type": "code",
   "execution_count": null,
   "metadata": {},
   "outputs": [],
   "source": []
  }
 ],
 "metadata": {
  "kernelspec": {
   "display_name": "Python 3",
   "language": "python",
   "name": "python3"
  },
  "language_info": {
   "codemirror_mode": {
    "name": "ipython",
    "version": 3
   },
   "file_extension": ".py",
   "mimetype": "text/x-python",
   "name": "python",
   "nbconvert_exporter": "python",
   "pygments_lexer": "ipython3",
   "version": "3.6.13"
  }
 },
 "nbformat": 4,
 "nbformat_minor": 4
}
