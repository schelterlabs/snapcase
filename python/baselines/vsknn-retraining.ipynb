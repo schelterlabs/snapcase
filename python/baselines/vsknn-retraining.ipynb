{
 "cells": [
  {
   "cell_type": "code",
   "execution_count": null,
   "id": "e86089fa",
   "metadata": {},
   "outputs": [],
   "source": [
    "import pandas as pd\n",
    "import numpy as np\n",
    "import time\n",
    "\n",
    "from vsknn import VSKnn"
   ]
  },
  {
   "cell_type": "code",
   "execution_count": 3,
   "id": "78117429",
   "metadata": {},
   "outputs": [],
   "source": [
    "def random_queries(evolving_sessions, num_queries):\n",
    "    evolving_session_ids = evolving_sessions.SessionId.unique()\n",
    "    sampled_evolving_session_ids = np.random.choice(evolving_session_ids, size=num_queries) \n",
    "\n",
    "    sampled_evolving_sessions = {id: [] for id in sampled_evolving_session_ids}\n",
    "\n",
    "    for index, row in evolving_sessions.iterrows():\n",
    "        if row['SessionId'] in sampled_evolving_sessions:\n",
    "            sampled_evolving_sessions[row['SessionId']].append(row['ItemId'])\n",
    "\n",
    "    query_sessions = {}        \n",
    "\n",
    "    for session_id, items in sampled_evolving_sessions.items():\n",
    "        random_session_length = np.random.randint(len(items) - 1) + 1\n",
    "        #print(session_id, items[:random_session_length])\n",
    "        query_sessions[session_id] = items[:random_session_length]\n",
    "    \n",
    "    return query_sessions"
   ]
  },
  {
   "cell_type": "code",
   "execution_count": 7,
   "id": "2fa1429c",
   "metadata": {},
   "outputs": [],
   "source": [
    "def run_experiment(dataset, historical_sessions_file, evolving_sessions_file, \n",
    "                   num_clicks_to_delete, num_queries_to_evaluate):\n",
    "\n",
    "    historical_sessions = pd.read_csv(historical_sessions_file, sep='\\t')\n",
    "    evolving_sessions = pd.read_csv(evolving_sessions_file, sep='\\t')\n",
    "\n",
    "  \n",
    "    for num_queries in num_queries_to_evaluate:\n",
    "        print(f'# {dataset} - num_queries={num_queries},num_clicks_to_delete={num_clicks_to_delete}')  \n",
    "        query_sessions = random_queries(evolving_sessions, num_queries)\n",
    "\n",
    "        historical_clicks = historical_sessions.copy(deep=True)\n",
    "\n",
    "        for run in range(num_clicks_to_delete):\n",
    "            row_to_delete = np.random.choice(historical_clicks.index, 1, replace=False)\n",
    "            historical_clicks = historical_clicks.drop(row_to_delete)\n",
    "\n",
    "            start_time = time.time()\n",
    "\n",
    "            vsknn = VSKnn(k=100)\n",
    "            vsknn.fit(historical_clicks)\n",
    "\n",
    "            for query_session_id, query_items in query_sessions.items():\n",
    "                for query_item in query_items:\n",
    "                    for item_to_add in query_items[:-1]:\n",
    "                        # We only add this click and skip the predictions\n",
    "                        vsknn.predict_next(query_session_id, item_to_add, skip=True)\n",
    "\n",
    "                    item_to_predict_for = query_items[-1]\n",
    "                    vsknn.predict_next(query_session_id, item_to_predict_for)\n",
    "\n",
    "            duration = time.time() - start_time\n",
    "            print(f'vs_python,deletion_performance,{dataset},{num_queries},{duration * 1000}')"
   ]
  },
  {
   "cell_type": "code",
   "execution_count": 8,
   "id": "0907bfa8",
   "metadata": {},
   "outputs": [
    {
     "name": "stdout",
     "output_type": "stream",
     "text": [
      "# ecom1m - num_queries=10,num_clicks_to_delete=3\n",
      "vs_python,deletion_performance,ecom1m,10,3284.7628593444824\n",
      "vs_python,deletion_performance,ecom1m,10,3560.023069381714\n",
      "vs_python,deletion_performance,ecom1m,10,3304.9211502075195\n",
      "# ecom1m - num_queries=100,num_clicks_to_delete=3\n",
      "vs_python,deletion_performance,ecom1m,100,5280.336141586304\n",
      "vs_python,deletion_performance,ecom1m,100,5881.610155105591\n",
      "vs_python,deletion_performance,ecom1m,100,5704.787969589233\n"
     ]
    }
   ],
   "source": [
    "num_queries_to_evaluate = [10, 100]\n",
    "num_clicks_to_delete = 3\n",
    "\n",
    "run_experiment('ecom1m', \"../../datasets/session/bolcom-clicks-1m_train.txt\", \n",
    "               \"../../datasets/session/bolcom-clicks-1m_test.txt\",\n",
    "               num_clicks_to_delete, num_queries_to_evaluate)\n"
   ]
  },
  {
   "cell_type": "code",
   "execution_count": 9,
   "id": "3a228761",
   "metadata": {},
   "outputs": [
    {
     "name": "stdout",
     "output_type": "stream",
     "text": [
      "# ecom60m - num_queries=10,num_clicks_to_delete=3\n",
      "vs_python,deletion_performance,ecom60m,10,237389.35494422913\n",
      "vs_python,deletion_performance,ecom60m,10,296696.9380378723\n"
     ]
    },
    {
     "ename": "KeyboardInterrupt",
     "evalue": "",
     "output_type": "error",
     "traceback": [
      "\u001b[0;31m---------------------------------------------------------------------------\u001b[0m",
      "\u001b[0;31mKeyboardInterrupt\u001b[0m                         Traceback (most recent call last)",
      "\u001b[0;32m/var/folders/dk/pbhh8rgn191dtpwnbsn_q1mm0000gn/T/ipykernel_11336/2896180142.py\u001b[0m in \u001b[0;36m<module>\u001b[0;34m\u001b[0m\n\u001b[1;32m      2\u001b[0m \u001b[0mnum_clicks_to_delete\u001b[0m \u001b[0;34m=\u001b[0m \u001b[0;36m3\u001b[0m\u001b[0;34m\u001b[0m\u001b[0;34m\u001b[0m\u001b[0m\n\u001b[1;32m      3\u001b[0m \u001b[0;34m\u001b[0m\u001b[0m\n\u001b[0;32m----> 4\u001b[0;31m run_experiment('ecom60m', \"../../datasets/session/bolcom-clicks-50m_train.txt\", \n\u001b[0m\u001b[1;32m      5\u001b[0m                \u001b[0;34m\"../../datasets/session/bolcom-clicks-50m_test.txt\"\u001b[0m\u001b[0;34m,\u001b[0m\u001b[0;34m\u001b[0m\u001b[0;34m\u001b[0m\u001b[0m\n\u001b[1;32m      6\u001b[0m                num_clicks_to_delete, num_queries_to_evaluate)\n",
      "\u001b[0;32m/var/folders/dk/pbhh8rgn191dtpwnbsn_q1mm0000gn/T/ipykernel_11336/560686049.py\u001b[0m in \u001b[0;36mrun_experiment\u001b[0;34m(dataset, historical_sessions_file, evolving_sessions_file, num_clicks_to_delete, num_queries_to_evaluate)\u001b[0m\n\u001b[1;32m     19\u001b[0m \u001b[0;34m\u001b[0m\u001b[0m\n\u001b[1;32m     20\u001b[0m             \u001b[0mvsknn\u001b[0m \u001b[0;34m=\u001b[0m \u001b[0mVSKnn\u001b[0m\u001b[0;34m(\u001b[0m\u001b[0mk\u001b[0m\u001b[0;34m=\u001b[0m\u001b[0;36m100\u001b[0m\u001b[0;34m)\u001b[0m\u001b[0;34m\u001b[0m\u001b[0;34m\u001b[0m\u001b[0m\n\u001b[0;32m---> 21\u001b[0;31m             \u001b[0mvsknn\u001b[0m\u001b[0;34m.\u001b[0m\u001b[0mfit\u001b[0m\u001b[0;34m(\u001b[0m\u001b[0mhistorical_clicks\u001b[0m\u001b[0;34m)\u001b[0m\u001b[0;34m\u001b[0m\u001b[0;34m\u001b[0m\u001b[0m\n\u001b[0m\u001b[1;32m     22\u001b[0m \u001b[0;34m\u001b[0m\u001b[0m\n\u001b[1;32m     23\u001b[0m             \u001b[0;32mfor\u001b[0m \u001b[0mquery_session_id\u001b[0m\u001b[0;34m,\u001b[0m \u001b[0mquery_items\u001b[0m \u001b[0;32min\u001b[0m \u001b[0mquery_sessions\u001b[0m\u001b[0;34m.\u001b[0m\u001b[0mitems\u001b[0m\u001b[0;34m(\u001b[0m\u001b[0;34m)\u001b[0m\u001b[0;34m:\u001b[0m\u001b[0;34m\u001b[0m\u001b[0;34m\u001b[0m\u001b[0m\n",
      "\u001b[0;31mKeyboardInterrupt\u001b[0m: "
     ]
    }
   ],
   "source": [
    "num_queries_to_evaluate = [10]\n",
    "num_clicks_to_delete = 3\n",
    "\n",
    "run_experiment('ecom60m', \"../../datasets/session/bolcom-clicks-50m_train.txt\", \n",
    "               \"../../datasets/session/bolcom-clicks-50m_test.txt\",\n",
    "               num_clicks_to_delete, num_queries_to_evaluate)"
   ]
  },
  {
   "cell_type": "code",
   "execution_count": 10,
   "id": "6478461d",
   "metadata": {},
   "outputs": [
    {
     "name": "stdout",
     "output_type": "stream",
     "text": [
      "# rsc15 - num_queries=10,num_clicks_to_delete=3\n",
      "vs_python,deletion_performance,rsc15,10,122435.39786338806\n",
      "vs_python,deletion_performance,rsc15,10,119968.46675872803\n",
      "vs_python,deletion_performance,rsc15,10,120102.94771194458\n"
     ]
    }
   ],
   "source": [
    "num_queries_to_evaluate = [10]\n",
    "num_clicks_to_delete = 3\n",
    "\n",
    "run_experiment('rsc15', \"../../datasets/session/rsc15-clicks_train_full.txt\", \n",
    "               \"../../datasets/session/rsc15-clicks_test.txt\",\n",
    "               num_clicks_to_delete, num_queries_to_evaluate)"
   ]
  },
  {
   "cell_type": "code",
   "execution_count": null,
   "id": "bc2bb676",
   "metadata": {},
   "outputs": [],
   "source": []
  }
 ],
 "metadata": {
  "kernelspec": {
   "display_name": "Python 3 (ipykernel)",
   "language": "python",
   "name": "python3"
  },
  "language_info": {
   "codemirror_mode": {
    "name": "ipython",
    "version": 3
   },
   "file_extension": ".py",
   "mimetype": "text/x-python",
   "name": "python",
   "nbconvert_exporter": "python",
   "pygments_lexer": "ipython3",
   "version": "3.9.10"
  }
 },
 "nbformat": 4,
 "nbformat_minor": 5
}
